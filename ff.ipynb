{
 "metadata": {
  "language_info": {
   "codemirror_mode": {
    "name": "ipython",
    "version": 3
   },
   "file_extension": ".py",
   "mimetype": "text/x-python",
   "name": "python",
   "nbconvert_exporter": "python",
   "pygments_lexer": "ipython3",
   "version": "3.8.3-final"
  },
  "orig_nbformat": 2,
  "kernelspec": {
   "name": "python3",
   "display_name": "Python 3",
   "language": "python"
  }
 },
 "nbformat": 4,
 "nbformat_minor": 2,
 "cells": [
  {
   "cell_type": "code",
   "execution_count": 1,
   "metadata": {},
   "outputs": [],
   "source": [
    "import pandas\n",
    "df = pandas.read_excel(\"Book1.xlsx\")"
   ]
  },
  {
   "cell_type": "code",
   "execution_count": 2,
   "metadata": {},
   "outputs": [
    {
     "output_type": "execute_result",
     "data": {
      "text/plain": [
       "    SI Character Name Price(In Diamonds)     Type                      Skill\n",
       "0    1         Chrono                600   Active              Shield, speed\n",
       "1    2              K                600   Active                     EP, HP\n",
       "2    3          Dasha                500  Passive             JR, Recoil, FD\n",
       "3    4           Jota                500  Passive     40 Hp Per kill(SMG/SG)\n",
       "4    5        Kapella                500  Passive           Extra HP on medi\n",
       "5    6         Steffi                600   Active              Reduce damage\n",
       "6    7         Alvaro                500  Passive   Increase Damage(Grenade)\n",
       "7    8         Primis         ----------  Passive                -----------\n",
       "8    9          Nulla         ----------  Passive                -----------\n",
       "9   10          Kelly  500/8000 FF Coins  Passive             Speed increase\n",
       "10  11          Maxim  500/8000 FF Coins  Passive  Medi Consumption Increase\n",
       "11  12         Hayato  500/8000 FF Coins  Passive  Damage increase on damage\n",
       "12  13         Joseph          On Top Up  Passive   Speed increase on damage\n",
       "13  14         Wukong                600   Active                 Camouflage"
      ],
      "text/html": "<div>\n<style scoped>\n    .dataframe tbody tr th:only-of-type {\n        vertical-align: middle;\n    }\n\n    .dataframe tbody tr th {\n        vertical-align: top;\n    }\n\n    .dataframe thead th {\n        text-align: right;\n    }\n</style>\n<table border=\"1\" class=\"dataframe\">\n  <thead>\n    <tr style=\"text-align: right;\">\n      <th></th>\n      <th>SI</th>\n      <th>Character Name</th>\n      <th>Price(In Diamonds)</th>\n      <th>Type</th>\n      <th>Skill</th>\n    </tr>\n  </thead>\n  <tbody>\n    <tr>\n      <th>0</th>\n      <td>1</td>\n      <td>Chrono</td>\n      <td>600</td>\n      <td>Active</td>\n      <td>Shield, speed</td>\n    </tr>\n    <tr>\n      <th>1</th>\n      <td>2</td>\n      <td>K</td>\n      <td>600</td>\n      <td>Active</td>\n      <td>EP, HP</td>\n    </tr>\n    <tr>\n      <th>2</th>\n      <td>3</td>\n      <td>Dasha</td>\n      <td>500</td>\n      <td>Passive</td>\n      <td>JR, Recoil, FD</td>\n    </tr>\n    <tr>\n      <th>3</th>\n      <td>4</td>\n      <td>Jota</td>\n      <td>500</td>\n      <td>Passive</td>\n      <td>40 Hp Per kill(SMG/SG)</td>\n    </tr>\n    <tr>\n      <th>4</th>\n      <td>5</td>\n      <td>Kapella</td>\n      <td>500</td>\n      <td>Passive</td>\n      <td>Extra HP on medi</td>\n    </tr>\n    <tr>\n      <th>5</th>\n      <td>6</td>\n      <td>Steffi</td>\n      <td>600</td>\n      <td>Active</td>\n      <td>Reduce damage</td>\n    </tr>\n    <tr>\n      <th>6</th>\n      <td>7</td>\n      <td>Alvaro</td>\n      <td>500</td>\n      <td>Passive</td>\n      <td>Increase Damage(Grenade)</td>\n    </tr>\n    <tr>\n      <th>7</th>\n      <td>8</td>\n      <td>Primis</td>\n      <td>----------</td>\n      <td>Passive</td>\n      <td>-----------</td>\n    </tr>\n    <tr>\n      <th>8</th>\n      <td>9</td>\n      <td>Nulla</td>\n      <td>----------</td>\n      <td>Passive</td>\n      <td>-----------</td>\n    </tr>\n    <tr>\n      <th>9</th>\n      <td>10</td>\n      <td>Kelly</td>\n      <td>500/8000 FF Coins</td>\n      <td>Passive</td>\n      <td>Speed increase</td>\n    </tr>\n    <tr>\n      <th>10</th>\n      <td>11</td>\n      <td>Maxim</td>\n      <td>500/8000 FF Coins</td>\n      <td>Passive</td>\n      <td>Medi Consumption Increase</td>\n    </tr>\n    <tr>\n      <th>11</th>\n      <td>12</td>\n      <td>Hayato</td>\n      <td>500/8000 FF Coins</td>\n      <td>Passive</td>\n      <td>Damage increase on damage</td>\n    </tr>\n    <tr>\n      <th>12</th>\n      <td>13</td>\n      <td>Joseph</td>\n      <td>On Top Up</td>\n      <td>Passive</td>\n      <td>Speed increase on damage</td>\n    </tr>\n    <tr>\n      <th>13</th>\n      <td>14</td>\n      <td>Wukong</td>\n      <td>600</td>\n      <td>Active</td>\n      <td>Camouflage</td>\n    </tr>\n  </tbody>\n</table>\n</div>"
     },
     "metadata": {},
     "execution_count": 2
    }
   ],
   "source": [
    "df"
   ]
  },
  {
   "cell_type": "code",
   "execution_count": 3,
   "metadata": {},
   "outputs": [],
   "source": [
    "df = df.set_index(\"SI\")"
   ]
  },
  {
   "cell_type": "code",
   "execution_count": 4,
   "metadata": {},
   "outputs": [
    {
     "output_type": "execute_result",
     "data": {
      "text/plain": [
       "   Character Name Price(In Diamonds)     Type                      Skill\n",
       "SI                                                                      \n",
       "1          Chrono                600   Active              Shield, speed\n",
       "2               K                600   Active                     EP, HP\n",
       "3           Dasha                500  Passive             JR, Recoil, FD\n",
       "4            Jota                500  Passive     40 Hp Per kill(SMG/SG)\n",
       "5         Kapella                500  Passive           Extra HP on medi\n",
       "6          Steffi                600   Active              Reduce damage\n",
       "7          Alvaro                500  Passive   Increase Damage(Grenade)\n",
       "8          Primis         ----------  Passive                -----------\n",
       "9           Nulla         ----------  Passive                -----------\n",
       "10          Kelly  500/8000 FF Coins  Passive             Speed increase\n",
       "11          Maxim  500/8000 FF Coins  Passive  Medi Consumption Increase\n",
       "12         Hayato  500/8000 FF Coins  Passive  Damage increase on damage\n",
       "13         Joseph          On Top Up  Passive   Speed increase on damage\n",
       "14         Wukong                600   Active                 Camouflage"
      ],
      "text/html": "<div>\n<style scoped>\n    .dataframe tbody tr th:only-of-type {\n        vertical-align: middle;\n    }\n\n    .dataframe tbody tr th {\n        vertical-align: top;\n    }\n\n    .dataframe thead th {\n        text-align: right;\n    }\n</style>\n<table border=\"1\" class=\"dataframe\">\n  <thead>\n    <tr style=\"text-align: right;\">\n      <th></th>\n      <th>Character Name</th>\n      <th>Price(In Diamonds)</th>\n      <th>Type</th>\n      <th>Skill</th>\n    </tr>\n    <tr>\n      <th>SI</th>\n      <th></th>\n      <th></th>\n      <th></th>\n      <th></th>\n    </tr>\n  </thead>\n  <tbody>\n    <tr>\n      <th>1</th>\n      <td>Chrono</td>\n      <td>600</td>\n      <td>Active</td>\n      <td>Shield, speed</td>\n    </tr>\n    <tr>\n      <th>2</th>\n      <td>K</td>\n      <td>600</td>\n      <td>Active</td>\n      <td>EP, HP</td>\n    </tr>\n    <tr>\n      <th>3</th>\n      <td>Dasha</td>\n      <td>500</td>\n      <td>Passive</td>\n      <td>JR, Recoil, FD</td>\n    </tr>\n    <tr>\n      <th>4</th>\n      <td>Jota</td>\n      <td>500</td>\n      <td>Passive</td>\n      <td>40 Hp Per kill(SMG/SG)</td>\n    </tr>\n    <tr>\n      <th>5</th>\n      <td>Kapella</td>\n      <td>500</td>\n      <td>Passive</td>\n      <td>Extra HP on medi</td>\n    </tr>\n    <tr>\n      <th>6</th>\n      <td>Steffi</td>\n      <td>600</td>\n      <td>Active</td>\n      <td>Reduce damage</td>\n    </tr>\n    <tr>\n      <th>7</th>\n      <td>Alvaro</td>\n      <td>500</td>\n      <td>Passive</td>\n      <td>Increase Damage(Grenade)</td>\n    </tr>\n    <tr>\n      <th>8</th>\n      <td>Primis</td>\n      <td>----------</td>\n      <td>Passive</td>\n      <td>-----------</td>\n    </tr>\n    <tr>\n      <th>9</th>\n      <td>Nulla</td>\n      <td>----------</td>\n      <td>Passive</td>\n      <td>-----------</td>\n    </tr>\n    <tr>\n      <th>10</th>\n      <td>Kelly</td>\n      <td>500/8000 FF Coins</td>\n      <td>Passive</td>\n      <td>Speed increase</td>\n    </tr>\n    <tr>\n      <th>11</th>\n      <td>Maxim</td>\n      <td>500/8000 FF Coins</td>\n      <td>Passive</td>\n      <td>Medi Consumption Increase</td>\n    </tr>\n    <tr>\n      <th>12</th>\n      <td>Hayato</td>\n      <td>500/8000 FF Coins</td>\n      <td>Passive</td>\n      <td>Damage increase on damage</td>\n    </tr>\n    <tr>\n      <th>13</th>\n      <td>Joseph</td>\n      <td>On Top Up</td>\n      <td>Passive</td>\n      <td>Speed increase on damage</td>\n    </tr>\n    <tr>\n      <th>14</th>\n      <td>Wukong</td>\n      <td>600</td>\n      <td>Active</td>\n      <td>Camouflage</td>\n    </tr>\n  </tbody>\n</table>\n</div>"
     },
     "metadata": {},
     "execution_count": 4
    }
   ],
   "source": [
    "df"
   ]
  },
  {
   "cell_type": "code",
   "execution_count": 30,
   "metadata": {},
   "outputs": [],
   "source": [
    "df = df.rename(columns={\"Character Name\" : \"Char_Name\"})"
   ]
  },
  {
   "cell_type": "code",
   "execution_count": 31,
   "metadata": {},
   "outputs": [],
   "source": [
    "df = df.rename(columns={\"Price(In Diamonds)\" : \"PID\"})"
   ]
  },
  {
   "cell_type": "code",
   "execution_count": 32,
   "metadata": {},
   "outputs": [],
   "source": [
    "df.iloc[7:8, 1] = df.iloc[8:9, 1] = \"Free\""
   ]
  },
  {
   "cell_type": "code",
   "execution_count": 33,
   "metadata": {},
   "outputs": [],
   "source": [
    "df.iloc[0:1, 3] = \"Shield, Speed ↑\""
   ]
  },
  {
   "cell_type": "code",
   "execution_count": 34,
   "metadata": {},
   "outputs": [
    {
     "output_type": "execute_result",
     "data": {
      "text/plain": [
       "   Char_Name                PID     Type  \\\n",
       "SI                                         \n",
       "1     Chrono                600   Active   \n",
       "2          K                600   Active   \n",
       "3      Dasha                500  Passive   \n",
       "4       Jota                500  Passive   \n",
       "5    Kapella                500  Passive   \n",
       "6     Steffi                600   Active   \n",
       "7     Alvaro                500  Passive   \n",
       "8     Primis               Free  Passive   \n",
       "9      Nulla               Free  Passive   \n",
       "10     Kelly  500/8000 FF Coins  Passive   \n",
       "11     Maxim  500/8000 FF Coins  Passive   \n",
       "12    Hayato  500/8000 FF Coins  Passive   \n",
       "13    Joseph          On Top Up  Passive   \n",
       "14    Wukong                600   Active   \n",
       "\n",
       "                                                Skill  \n",
       "SI                                                     \n",
       "1                                     Shield, Speed ↑  \n",
       "2                   EP ↑, EP received converted to HP  \n",
       "3   Jump Recovery Time ↓, Gun Recoil ↓, Fall Damage ↓  \n",
       "4                                40HP ↑/Kill (SMG/SG)  \n",
       "5                           ➕ HP on Consuming Medikit  \n",
       "6                   Reduce all Kinds of Damage by 30％  \n",
       "7   ↑ Damage(Grenade), ↑ Gun Range, ↑ lasting time...  \n",
       "8                                         -----------  \n",
       "9                                         -----------  \n",
       "10                                            Speed ↑  \n",
       "11                      ↓ in Medikit consumption time  \n",
       "12      ↑ in Gun Damage to enemy on succumbing damage  \n",
       "13                    ↑ in speed on succumbing damage  \n",
       "14                             Camouflage for 20 secs  "
      ],
      "text/html": "<div>\n<style scoped>\n    .dataframe tbody tr th:only-of-type {\n        vertical-align: middle;\n    }\n\n    .dataframe tbody tr th {\n        vertical-align: top;\n    }\n\n    .dataframe thead th {\n        text-align: right;\n    }\n</style>\n<table border=\"1\" class=\"dataframe\">\n  <thead>\n    <tr style=\"text-align: right;\">\n      <th></th>\n      <th>Char_Name</th>\n      <th>PID</th>\n      <th>Type</th>\n      <th>Skill</th>\n    </tr>\n    <tr>\n      <th>SI</th>\n      <th></th>\n      <th></th>\n      <th></th>\n      <th></th>\n    </tr>\n  </thead>\n  <tbody>\n    <tr>\n      <th>1</th>\n      <td>Chrono</td>\n      <td>600</td>\n      <td>Active</td>\n      <td>Shield, Speed ↑</td>\n    </tr>\n    <tr>\n      <th>2</th>\n      <td>K</td>\n      <td>600</td>\n      <td>Active</td>\n      <td>EP ↑, EP received converted to HP</td>\n    </tr>\n    <tr>\n      <th>3</th>\n      <td>Dasha</td>\n      <td>500</td>\n      <td>Passive</td>\n      <td>Jump Recovery Time ↓, Gun Recoil ↓, Fall Damage ↓</td>\n    </tr>\n    <tr>\n      <th>4</th>\n      <td>Jota</td>\n      <td>500</td>\n      <td>Passive</td>\n      <td>40HP ↑/Kill (SMG/SG)</td>\n    </tr>\n    <tr>\n      <th>5</th>\n      <td>Kapella</td>\n      <td>500</td>\n      <td>Passive</td>\n      <td>➕ HP on Consuming Medikit</td>\n    </tr>\n    <tr>\n      <th>6</th>\n      <td>Steffi</td>\n      <td>600</td>\n      <td>Active</td>\n      <td>Reduce all Kinds of Damage by 30％</td>\n    </tr>\n    <tr>\n      <th>7</th>\n      <td>Alvaro</td>\n      <td>500</td>\n      <td>Passive</td>\n      <td>↑ Damage(Grenade), ↑ Gun Range, ↑ lasting time...</td>\n    </tr>\n    <tr>\n      <th>8</th>\n      <td>Primis</td>\n      <td>Free</td>\n      <td>Passive</td>\n      <td>-----------</td>\n    </tr>\n    <tr>\n      <th>9</th>\n      <td>Nulla</td>\n      <td>Free</td>\n      <td>Passive</td>\n      <td>-----------</td>\n    </tr>\n    <tr>\n      <th>10</th>\n      <td>Kelly</td>\n      <td>500/8000 FF Coins</td>\n      <td>Passive</td>\n      <td>Speed ↑</td>\n    </tr>\n    <tr>\n      <th>11</th>\n      <td>Maxim</td>\n      <td>500/8000 FF Coins</td>\n      <td>Passive</td>\n      <td>↓ in Medikit consumption time</td>\n    </tr>\n    <tr>\n      <th>12</th>\n      <td>Hayato</td>\n      <td>500/8000 FF Coins</td>\n      <td>Passive</td>\n      <td>↑ in Gun Damage to enemy on succumbing damage</td>\n    </tr>\n    <tr>\n      <th>13</th>\n      <td>Joseph</td>\n      <td>On Top Up</td>\n      <td>Passive</td>\n      <td>↑ in speed on succumbing damage</td>\n    </tr>\n    <tr>\n      <th>14</th>\n      <td>Wukong</td>\n      <td>600</td>\n      <td>Active</td>\n      <td>Camouflage for 20 secs</td>\n    </tr>\n  </tbody>\n</table>\n</div>"
     },
     "metadata": {},
     "execution_count": 34
    }
   ],
   "source": [
    "df"
   ]
  },
  {
   "cell_type": "code",
   "execution_count": 35,
   "metadata": {},
   "outputs": [],
   "source": [
    "df.iloc[1:2, 3] = \"EP ↑, EP received converted to HP\""
   ]
  },
  {
   "cell_type": "code",
   "execution_count": 36,
   "metadata": {},
   "outputs": [
    {
     "output_type": "execute_result",
     "data": {
      "text/plain": [
       "   Char_Name                PID     Type  \\\n",
       "SI                                         \n",
       "1     Chrono                600   Active   \n",
       "2          K                600   Active   \n",
       "3      Dasha                500  Passive   \n",
       "4       Jota                500  Passive   \n",
       "5    Kapella                500  Passive   \n",
       "6     Steffi                600   Active   \n",
       "7     Alvaro                500  Passive   \n",
       "8     Primis               Free  Passive   \n",
       "9      Nulla               Free  Passive   \n",
       "10     Kelly  500/8000 FF Coins  Passive   \n",
       "11     Maxim  500/8000 FF Coins  Passive   \n",
       "12    Hayato  500/8000 FF Coins  Passive   \n",
       "13    Joseph          On Top Up  Passive   \n",
       "14    Wukong                600   Active   \n",
       "\n",
       "                                                Skill  \n",
       "SI                                                     \n",
       "1                                     Shield, Speed ↑  \n",
       "2                   EP ↑, EP received converted to HP  \n",
       "3   Jump Recovery Time ↓, Gun Recoil ↓, Fall Damage ↓  \n",
       "4                                40HP ↑/Kill (SMG/SG)  \n",
       "5                           ➕ HP on Consuming Medikit  \n",
       "6                   Reduce all Kinds of Damage by 30％  \n",
       "7   ↑ Damage(Grenade), ↑ Gun Range, ↑ lasting time...  \n",
       "8                                         -----------  \n",
       "9                                         -----------  \n",
       "10                                            Speed ↑  \n",
       "11                      ↓ in Medikit consumption time  \n",
       "12      ↑ in Gun Damage to enemy on succumbing damage  \n",
       "13                    ↑ in speed on succumbing damage  \n",
       "14                             Camouflage for 20 secs  "
      ],
      "text/html": "<div>\n<style scoped>\n    .dataframe tbody tr th:only-of-type {\n        vertical-align: middle;\n    }\n\n    .dataframe tbody tr th {\n        vertical-align: top;\n    }\n\n    .dataframe thead th {\n        text-align: right;\n    }\n</style>\n<table border=\"1\" class=\"dataframe\">\n  <thead>\n    <tr style=\"text-align: right;\">\n      <th></th>\n      <th>Char_Name</th>\n      <th>PID</th>\n      <th>Type</th>\n      <th>Skill</th>\n    </tr>\n    <tr>\n      <th>SI</th>\n      <th></th>\n      <th></th>\n      <th></th>\n      <th></th>\n    </tr>\n  </thead>\n  <tbody>\n    <tr>\n      <th>1</th>\n      <td>Chrono</td>\n      <td>600</td>\n      <td>Active</td>\n      <td>Shield, Speed ↑</td>\n    </tr>\n    <tr>\n      <th>2</th>\n      <td>K</td>\n      <td>600</td>\n      <td>Active</td>\n      <td>EP ↑, EP received converted to HP</td>\n    </tr>\n    <tr>\n      <th>3</th>\n      <td>Dasha</td>\n      <td>500</td>\n      <td>Passive</td>\n      <td>Jump Recovery Time ↓, Gun Recoil ↓, Fall Damage ↓</td>\n    </tr>\n    <tr>\n      <th>4</th>\n      <td>Jota</td>\n      <td>500</td>\n      <td>Passive</td>\n      <td>40HP ↑/Kill (SMG/SG)</td>\n    </tr>\n    <tr>\n      <th>5</th>\n      <td>Kapella</td>\n      <td>500</td>\n      <td>Passive</td>\n      <td>➕ HP on Consuming Medikit</td>\n    </tr>\n    <tr>\n      <th>6</th>\n      <td>Steffi</td>\n      <td>600</td>\n      <td>Active</td>\n      <td>Reduce all Kinds of Damage by 30％</td>\n    </tr>\n    <tr>\n      <th>7</th>\n      <td>Alvaro</td>\n      <td>500</td>\n      <td>Passive</td>\n      <td>↑ Damage(Grenade), ↑ Gun Range, ↑ lasting time...</td>\n    </tr>\n    <tr>\n      <th>8</th>\n      <td>Primis</td>\n      <td>Free</td>\n      <td>Passive</td>\n      <td>-----------</td>\n    </tr>\n    <tr>\n      <th>9</th>\n      <td>Nulla</td>\n      <td>Free</td>\n      <td>Passive</td>\n      <td>-----------</td>\n    </tr>\n    <tr>\n      <th>10</th>\n      <td>Kelly</td>\n      <td>500/8000 FF Coins</td>\n      <td>Passive</td>\n      <td>Speed ↑</td>\n    </tr>\n    <tr>\n      <th>11</th>\n      <td>Maxim</td>\n      <td>500/8000 FF Coins</td>\n      <td>Passive</td>\n      <td>↓ in Medikit consumption time</td>\n    </tr>\n    <tr>\n      <th>12</th>\n      <td>Hayato</td>\n      <td>500/8000 FF Coins</td>\n      <td>Passive</td>\n      <td>↑ in Gun Damage to enemy on succumbing damage</td>\n    </tr>\n    <tr>\n      <th>13</th>\n      <td>Joseph</td>\n      <td>On Top Up</td>\n      <td>Passive</td>\n      <td>↑ in speed on succumbing damage</td>\n    </tr>\n    <tr>\n      <th>14</th>\n      <td>Wukong</td>\n      <td>600</td>\n      <td>Active</td>\n      <td>Camouflage for 20 secs</td>\n    </tr>\n  </tbody>\n</table>\n</div>"
     },
     "metadata": {},
     "execution_count": 36
    }
   ],
   "source": [
    "df"
   ]
  },
  {
   "cell_type": "code",
   "execution_count": 37,
   "metadata": {},
   "outputs": [],
   "source": [
    "df.iloc[2, 3] = \"Jump Recovery Time ↓, Gun Recoil ↓, Fall Damage ↓\""
   ]
  },
  {
   "cell_type": "code",
   "execution_count": 38,
   "metadata": {},
   "outputs": [
    {
     "output_type": "execute_result",
     "data": {
      "text/plain": [
       "   Char_Name                PID     Type  \\\n",
       "SI                                         \n",
       "1     Chrono                600   Active   \n",
       "2          K                600   Active   \n",
       "3      Dasha                500  Passive   \n",
       "4       Jota                500  Passive   \n",
       "5    Kapella                500  Passive   \n",
       "6     Steffi                600   Active   \n",
       "7     Alvaro                500  Passive   \n",
       "8     Primis               Free  Passive   \n",
       "9      Nulla               Free  Passive   \n",
       "10     Kelly  500/8000 FF Coins  Passive   \n",
       "11     Maxim  500/8000 FF Coins  Passive   \n",
       "12    Hayato  500/8000 FF Coins  Passive   \n",
       "13    Joseph          On Top Up  Passive   \n",
       "14    Wukong                600   Active   \n",
       "\n",
       "                                                Skill  \n",
       "SI                                                     \n",
       "1                                     Shield, Speed ↑  \n",
       "2                   EP ↑, EP received converted to HP  \n",
       "3   Jump Recovery Time ↓, Gun Recoil ↓, Fall Damage ↓  \n",
       "4                                40HP ↑/Kill (SMG/SG)  \n",
       "5                           ➕ HP on Consuming Medikit  \n",
       "6                   Reduce all Kinds of Damage by 30％  \n",
       "7   ↑ Damage(Grenade), ↑ Gun Range, ↑ lasting time...  \n",
       "8                                         -----------  \n",
       "9                                         -----------  \n",
       "10                                            Speed ↑  \n",
       "11                      ↓ in Medikit consumption time  \n",
       "12      ↑ in Gun Damage to enemy on succumbing damage  \n",
       "13                    ↑ in speed on succumbing damage  \n",
       "14                             Camouflage for 20 secs  "
      ],
      "text/html": "<div>\n<style scoped>\n    .dataframe tbody tr th:only-of-type {\n        vertical-align: middle;\n    }\n\n    .dataframe tbody tr th {\n        vertical-align: top;\n    }\n\n    .dataframe thead th {\n        text-align: right;\n    }\n</style>\n<table border=\"1\" class=\"dataframe\">\n  <thead>\n    <tr style=\"text-align: right;\">\n      <th></th>\n      <th>Char_Name</th>\n      <th>PID</th>\n      <th>Type</th>\n      <th>Skill</th>\n    </tr>\n    <tr>\n      <th>SI</th>\n      <th></th>\n      <th></th>\n      <th></th>\n      <th></th>\n    </tr>\n  </thead>\n  <tbody>\n    <tr>\n      <th>1</th>\n      <td>Chrono</td>\n      <td>600</td>\n      <td>Active</td>\n      <td>Shield, Speed ↑</td>\n    </tr>\n    <tr>\n      <th>2</th>\n      <td>K</td>\n      <td>600</td>\n      <td>Active</td>\n      <td>EP ↑, EP received converted to HP</td>\n    </tr>\n    <tr>\n      <th>3</th>\n      <td>Dasha</td>\n      <td>500</td>\n      <td>Passive</td>\n      <td>Jump Recovery Time ↓, Gun Recoil ↓, Fall Damage ↓</td>\n    </tr>\n    <tr>\n      <th>4</th>\n      <td>Jota</td>\n      <td>500</td>\n      <td>Passive</td>\n      <td>40HP ↑/Kill (SMG/SG)</td>\n    </tr>\n    <tr>\n      <th>5</th>\n      <td>Kapella</td>\n      <td>500</td>\n      <td>Passive</td>\n      <td>➕ HP on Consuming Medikit</td>\n    </tr>\n    <tr>\n      <th>6</th>\n      <td>Steffi</td>\n      <td>600</td>\n      <td>Active</td>\n      <td>Reduce all Kinds of Damage by 30％</td>\n    </tr>\n    <tr>\n      <th>7</th>\n      <td>Alvaro</td>\n      <td>500</td>\n      <td>Passive</td>\n      <td>↑ Damage(Grenade), ↑ Gun Range, ↑ lasting time...</td>\n    </tr>\n    <tr>\n      <th>8</th>\n      <td>Primis</td>\n      <td>Free</td>\n      <td>Passive</td>\n      <td>-----------</td>\n    </tr>\n    <tr>\n      <th>9</th>\n      <td>Nulla</td>\n      <td>Free</td>\n      <td>Passive</td>\n      <td>-----------</td>\n    </tr>\n    <tr>\n      <th>10</th>\n      <td>Kelly</td>\n      <td>500/8000 FF Coins</td>\n      <td>Passive</td>\n      <td>Speed ↑</td>\n    </tr>\n    <tr>\n      <th>11</th>\n      <td>Maxim</td>\n      <td>500/8000 FF Coins</td>\n      <td>Passive</td>\n      <td>↓ in Medikit consumption time</td>\n    </tr>\n    <tr>\n      <th>12</th>\n      <td>Hayato</td>\n      <td>500/8000 FF Coins</td>\n      <td>Passive</td>\n      <td>↑ in Gun Damage to enemy on succumbing damage</td>\n    </tr>\n    <tr>\n      <th>13</th>\n      <td>Joseph</td>\n      <td>On Top Up</td>\n      <td>Passive</td>\n      <td>↑ in speed on succumbing damage</td>\n    </tr>\n    <tr>\n      <th>14</th>\n      <td>Wukong</td>\n      <td>600</td>\n      <td>Active</td>\n      <td>Camouflage for 20 secs</td>\n    </tr>\n  </tbody>\n</table>\n</div>"
     },
     "metadata": {},
     "execution_count": 38
    }
   ],
   "source": [
    "df"
   ]
  },
  {
   "cell_type": "code",
   "execution_count": 39,
   "metadata": {},
   "outputs": [],
   "source": [
    "df.iloc[3, 3] = \"40HP ↑/Kill (SMG/SG)\""
   ]
  },
  {
   "cell_type": "code",
   "execution_count": 40,
   "metadata": {},
   "outputs": [
    {
     "output_type": "execute_result",
     "data": {
      "text/plain": [
       "   Char_Name                PID     Type  \\\n",
       "SI                                         \n",
       "1     Chrono                600   Active   \n",
       "2          K                600   Active   \n",
       "3      Dasha                500  Passive   \n",
       "4       Jota                500  Passive   \n",
       "5    Kapella                500  Passive   \n",
       "6     Steffi                600   Active   \n",
       "7     Alvaro                500  Passive   \n",
       "8     Primis               Free  Passive   \n",
       "9      Nulla               Free  Passive   \n",
       "10     Kelly  500/8000 FF Coins  Passive   \n",
       "11     Maxim  500/8000 FF Coins  Passive   \n",
       "12    Hayato  500/8000 FF Coins  Passive   \n",
       "13    Joseph          On Top Up  Passive   \n",
       "14    Wukong                600   Active   \n",
       "\n",
       "                                                Skill  \n",
       "SI                                                     \n",
       "1                                     Shield, Speed ↑  \n",
       "2                   EP ↑, EP received converted to HP  \n",
       "3   Jump Recovery Time ↓, Gun Recoil ↓, Fall Damage ↓  \n",
       "4                                40HP ↑/Kill (SMG/SG)  \n",
       "5                           ➕ HP on Consuming Medikit  \n",
       "6                   Reduce all Kinds of Damage by 30％  \n",
       "7   ↑ Damage(Grenade), ↑ Gun Range, ↑ lasting time...  \n",
       "8                                         -----------  \n",
       "9                                         -----------  \n",
       "10                                            Speed ↑  \n",
       "11                      ↓ in Medikit consumption time  \n",
       "12      ↑ in Gun Damage to enemy on succumbing damage  \n",
       "13                    ↑ in speed on succumbing damage  \n",
       "14                             Camouflage for 20 secs  "
      ],
      "text/html": "<div>\n<style scoped>\n    .dataframe tbody tr th:only-of-type {\n        vertical-align: middle;\n    }\n\n    .dataframe tbody tr th {\n        vertical-align: top;\n    }\n\n    .dataframe thead th {\n        text-align: right;\n    }\n</style>\n<table border=\"1\" class=\"dataframe\">\n  <thead>\n    <tr style=\"text-align: right;\">\n      <th></th>\n      <th>Char_Name</th>\n      <th>PID</th>\n      <th>Type</th>\n      <th>Skill</th>\n    </tr>\n    <tr>\n      <th>SI</th>\n      <th></th>\n      <th></th>\n      <th></th>\n      <th></th>\n    </tr>\n  </thead>\n  <tbody>\n    <tr>\n      <th>1</th>\n      <td>Chrono</td>\n      <td>600</td>\n      <td>Active</td>\n      <td>Shield, Speed ↑</td>\n    </tr>\n    <tr>\n      <th>2</th>\n      <td>K</td>\n      <td>600</td>\n      <td>Active</td>\n      <td>EP ↑, EP received converted to HP</td>\n    </tr>\n    <tr>\n      <th>3</th>\n      <td>Dasha</td>\n      <td>500</td>\n      <td>Passive</td>\n      <td>Jump Recovery Time ↓, Gun Recoil ↓, Fall Damage ↓</td>\n    </tr>\n    <tr>\n      <th>4</th>\n      <td>Jota</td>\n      <td>500</td>\n      <td>Passive</td>\n      <td>40HP ↑/Kill (SMG/SG)</td>\n    </tr>\n    <tr>\n      <th>5</th>\n      <td>Kapella</td>\n      <td>500</td>\n      <td>Passive</td>\n      <td>➕ HP on Consuming Medikit</td>\n    </tr>\n    <tr>\n      <th>6</th>\n      <td>Steffi</td>\n      <td>600</td>\n      <td>Active</td>\n      <td>Reduce all Kinds of Damage by 30％</td>\n    </tr>\n    <tr>\n      <th>7</th>\n      <td>Alvaro</td>\n      <td>500</td>\n      <td>Passive</td>\n      <td>↑ Damage(Grenade), ↑ Gun Range, ↑ lasting time...</td>\n    </tr>\n    <tr>\n      <th>8</th>\n      <td>Primis</td>\n      <td>Free</td>\n      <td>Passive</td>\n      <td>-----------</td>\n    </tr>\n    <tr>\n      <th>9</th>\n      <td>Nulla</td>\n      <td>Free</td>\n      <td>Passive</td>\n      <td>-----------</td>\n    </tr>\n    <tr>\n      <th>10</th>\n      <td>Kelly</td>\n      <td>500/8000 FF Coins</td>\n      <td>Passive</td>\n      <td>Speed ↑</td>\n    </tr>\n    <tr>\n      <th>11</th>\n      <td>Maxim</td>\n      <td>500/8000 FF Coins</td>\n      <td>Passive</td>\n      <td>↓ in Medikit consumption time</td>\n    </tr>\n    <tr>\n      <th>12</th>\n      <td>Hayato</td>\n      <td>500/8000 FF Coins</td>\n      <td>Passive</td>\n      <td>↑ in Gun Damage to enemy on succumbing damage</td>\n    </tr>\n    <tr>\n      <th>13</th>\n      <td>Joseph</td>\n      <td>On Top Up</td>\n      <td>Passive</td>\n      <td>↑ in speed on succumbing damage</td>\n    </tr>\n    <tr>\n      <th>14</th>\n      <td>Wukong</td>\n      <td>600</td>\n      <td>Active</td>\n      <td>Camouflage for 20 secs</td>\n    </tr>\n  </tbody>\n</table>\n</div>"
     },
     "metadata": {},
     "execution_count": 40
    }
   ],
   "source": [
    "df"
   ]
  },
  {
   "cell_type": "code",
   "execution_count": 41,
   "metadata": {},
   "outputs": [],
   "source": [
    "df.iloc[4, 3] = \"➕ HP on Consuming Medikit\""
   ]
  },
  {
   "cell_type": "code",
   "execution_count": 42,
   "metadata": {},
   "outputs": [
    {
     "output_type": "execute_result",
     "data": {
      "text/plain": [
       "   Char_Name                PID     Type  \\\n",
       "SI                                         \n",
       "1     Chrono                600   Active   \n",
       "2          K                600   Active   \n",
       "3      Dasha                500  Passive   \n",
       "4       Jota                500  Passive   \n",
       "5    Kapella                500  Passive   \n",
       "6     Steffi                600   Active   \n",
       "7     Alvaro                500  Passive   \n",
       "8     Primis               Free  Passive   \n",
       "9      Nulla               Free  Passive   \n",
       "10     Kelly  500/8000 FF Coins  Passive   \n",
       "11     Maxim  500/8000 FF Coins  Passive   \n",
       "12    Hayato  500/8000 FF Coins  Passive   \n",
       "13    Joseph          On Top Up  Passive   \n",
       "14    Wukong                600   Active   \n",
       "\n",
       "                                                Skill  \n",
       "SI                                                     \n",
       "1                                     Shield, Speed ↑  \n",
       "2                   EP ↑, EP received converted to HP  \n",
       "3   Jump Recovery Time ↓, Gun Recoil ↓, Fall Damage ↓  \n",
       "4                                40HP ↑/Kill (SMG/SG)  \n",
       "5                           ➕ HP on Consuming Medikit  \n",
       "6                   Reduce all Kinds of Damage by 30％  \n",
       "7   ↑ Damage(Grenade), ↑ Gun Range, ↑ lasting time...  \n",
       "8                                         -----------  \n",
       "9                                         -----------  \n",
       "10                                            Speed ↑  \n",
       "11                      ↓ in Medikit consumption time  \n",
       "12      ↑ in Gun Damage to enemy on succumbing damage  \n",
       "13                    ↑ in speed on succumbing damage  \n",
       "14                             Camouflage for 20 secs  "
      ],
      "text/html": "<div>\n<style scoped>\n    .dataframe tbody tr th:only-of-type {\n        vertical-align: middle;\n    }\n\n    .dataframe tbody tr th {\n        vertical-align: top;\n    }\n\n    .dataframe thead th {\n        text-align: right;\n    }\n</style>\n<table border=\"1\" class=\"dataframe\">\n  <thead>\n    <tr style=\"text-align: right;\">\n      <th></th>\n      <th>Char_Name</th>\n      <th>PID</th>\n      <th>Type</th>\n      <th>Skill</th>\n    </tr>\n    <tr>\n      <th>SI</th>\n      <th></th>\n      <th></th>\n      <th></th>\n      <th></th>\n    </tr>\n  </thead>\n  <tbody>\n    <tr>\n      <th>1</th>\n      <td>Chrono</td>\n      <td>600</td>\n      <td>Active</td>\n      <td>Shield, Speed ↑</td>\n    </tr>\n    <tr>\n      <th>2</th>\n      <td>K</td>\n      <td>600</td>\n      <td>Active</td>\n      <td>EP ↑, EP received converted to HP</td>\n    </tr>\n    <tr>\n      <th>3</th>\n      <td>Dasha</td>\n      <td>500</td>\n      <td>Passive</td>\n      <td>Jump Recovery Time ↓, Gun Recoil ↓, Fall Damage ↓</td>\n    </tr>\n    <tr>\n      <th>4</th>\n      <td>Jota</td>\n      <td>500</td>\n      <td>Passive</td>\n      <td>40HP ↑/Kill (SMG/SG)</td>\n    </tr>\n    <tr>\n      <th>5</th>\n      <td>Kapella</td>\n      <td>500</td>\n      <td>Passive</td>\n      <td>➕ HP on Consuming Medikit</td>\n    </tr>\n    <tr>\n      <th>6</th>\n      <td>Steffi</td>\n      <td>600</td>\n      <td>Active</td>\n      <td>Reduce all Kinds of Damage by 30％</td>\n    </tr>\n    <tr>\n      <th>7</th>\n      <td>Alvaro</td>\n      <td>500</td>\n      <td>Passive</td>\n      <td>↑ Damage(Grenade), ↑ Gun Range, ↑ lasting time...</td>\n    </tr>\n    <tr>\n      <th>8</th>\n      <td>Primis</td>\n      <td>Free</td>\n      <td>Passive</td>\n      <td>-----------</td>\n    </tr>\n    <tr>\n      <th>9</th>\n      <td>Nulla</td>\n      <td>Free</td>\n      <td>Passive</td>\n      <td>-----------</td>\n    </tr>\n    <tr>\n      <th>10</th>\n      <td>Kelly</td>\n      <td>500/8000 FF Coins</td>\n      <td>Passive</td>\n      <td>Speed ↑</td>\n    </tr>\n    <tr>\n      <th>11</th>\n      <td>Maxim</td>\n      <td>500/8000 FF Coins</td>\n      <td>Passive</td>\n      <td>↓ in Medikit consumption time</td>\n    </tr>\n    <tr>\n      <th>12</th>\n      <td>Hayato</td>\n      <td>500/8000 FF Coins</td>\n      <td>Passive</td>\n      <td>↑ in Gun Damage to enemy on succumbing damage</td>\n    </tr>\n    <tr>\n      <th>13</th>\n      <td>Joseph</td>\n      <td>On Top Up</td>\n      <td>Passive</td>\n      <td>↑ in speed on succumbing damage</td>\n    </tr>\n    <tr>\n      <th>14</th>\n      <td>Wukong</td>\n      <td>600</td>\n      <td>Active</td>\n      <td>Camouflage for 20 secs</td>\n    </tr>\n  </tbody>\n</table>\n</div>"
     },
     "metadata": {},
     "execution_count": 42
    }
   ],
   "source": [
    "df"
   ]
  },
  {
   "cell_type": "code",
   "execution_count": 43,
   "metadata": {},
   "outputs": [],
   "source": [
    "df.iloc[5, 3] = \"Reduce all Kinds of Damage by 30％\""
   ]
  },
  {
   "cell_type": "code",
   "execution_count": 44,
   "metadata": {},
   "outputs": [],
   "source": [
    "df.iloc[6, 3] = \"↑ Damage(Grenade), ↑ Gun Range, ↑ lasting time of grenades\""
   ]
  },
  {
   "cell_type": "code",
   "execution_count": 45,
   "metadata": {},
   "outputs": [
    {
     "output_type": "execute_result",
     "data": {
      "text/plain": [
       "   Char_Name                PID     Type  \\\n",
       "SI                                         \n",
       "1     Chrono                600   Active   \n",
       "2          K                600   Active   \n",
       "3      Dasha                500  Passive   \n",
       "4       Jota                500  Passive   \n",
       "5    Kapella                500  Passive   \n",
       "6     Steffi                600   Active   \n",
       "7     Alvaro                500  Passive   \n",
       "8     Primis               Free  Passive   \n",
       "9      Nulla               Free  Passive   \n",
       "10     Kelly  500/8000 FF Coins  Passive   \n",
       "11     Maxim  500/8000 FF Coins  Passive   \n",
       "12    Hayato  500/8000 FF Coins  Passive   \n",
       "13    Joseph          On Top Up  Passive   \n",
       "14    Wukong                600   Active   \n",
       "\n",
       "                                                Skill  \n",
       "SI                                                     \n",
       "1                                     Shield, Speed ↑  \n",
       "2                   EP ↑, EP received converted to HP  \n",
       "3   Jump Recovery Time ↓, Gun Recoil ↓, Fall Damage ↓  \n",
       "4                                40HP ↑/Kill (SMG/SG)  \n",
       "5                           ➕ HP on Consuming Medikit  \n",
       "6                   Reduce all Kinds of Damage by 30％  \n",
       "7   ↑ Damage(Grenade), ↑ Gun Range, ↑ lasting time...  \n",
       "8                                         -----------  \n",
       "9                                         -----------  \n",
       "10                                            Speed ↑  \n",
       "11                      ↓ in Medikit consumption time  \n",
       "12      ↑ in Gun Damage to enemy on succumbing damage  \n",
       "13                    ↑ in speed on succumbing damage  \n",
       "14                             Camouflage for 20 secs  "
      ],
      "text/html": "<div>\n<style scoped>\n    .dataframe tbody tr th:only-of-type {\n        vertical-align: middle;\n    }\n\n    .dataframe tbody tr th {\n        vertical-align: top;\n    }\n\n    .dataframe thead th {\n        text-align: right;\n    }\n</style>\n<table border=\"1\" class=\"dataframe\">\n  <thead>\n    <tr style=\"text-align: right;\">\n      <th></th>\n      <th>Char_Name</th>\n      <th>PID</th>\n      <th>Type</th>\n      <th>Skill</th>\n    </tr>\n    <tr>\n      <th>SI</th>\n      <th></th>\n      <th></th>\n      <th></th>\n      <th></th>\n    </tr>\n  </thead>\n  <tbody>\n    <tr>\n      <th>1</th>\n      <td>Chrono</td>\n      <td>600</td>\n      <td>Active</td>\n      <td>Shield, Speed ↑</td>\n    </tr>\n    <tr>\n      <th>2</th>\n      <td>K</td>\n      <td>600</td>\n      <td>Active</td>\n      <td>EP ↑, EP received converted to HP</td>\n    </tr>\n    <tr>\n      <th>3</th>\n      <td>Dasha</td>\n      <td>500</td>\n      <td>Passive</td>\n      <td>Jump Recovery Time ↓, Gun Recoil ↓, Fall Damage ↓</td>\n    </tr>\n    <tr>\n      <th>4</th>\n      <td>Jota</td>\n      <td>500</td>\n      <td>Passive</td>\n      <td>40HP ↑/Kill (SMG/SG)</td>\n    </tr>\n    <tr>\n      <th>5</th>\n      <td>Kapella</td>\n      <td>500</td>\n      <td>Passive</td>\n      <td>➕ HP on Consuming Medikit</td>\n    </tr>\n    <tr>\n      <th>6</th>\n      <td>Steffi</td>\n      <td>600</td>\n      <td>Active</td>\n      <td>Reduce all Kinds of Damage by 30％</td>\n    </tr>\n    <tr>\n      <th>7</th>\n      <td>Alvaro</td>\n      <td>500</td>\n      <td>Passive</td>\n      <td>↑ Damage(Grenade), ↑ Gun Range, ↑ lasting time...</td>\n    </tr>\n    <tr>\n      <th>8</th>\n      <td>Primis</td>\n      <td>Free</td>\n      <td>Passive</td>\n      <td>-----------</td>\n    </tr>\n    <tr>\n      <th>9</th>\n      <td>Nulla</td>\n      <td>Free</td>\n      <td>Passive</td>\n      <td>-----------</td>\n    </tr>\n    <tr>\n      <th>10</th>\n      <td>Kelly</td>\n      <td>500/8000 FF Coins</td>\n      <td>Passive</td>\n      <td>Speed ↑</td>\n    </tr>\n    <tr>\n      <th>11</th>\n      <td>Maxim</td>\n      <td>500/8000 FF Coins</td>\n      <td>Passive</td>\n      <td>↓ in Medikit consumption time</td>\n    </tr>\n    <tr>\n      <th>12</th>\n      <td>Hayato</td>\n      <td>500/8000 FF Coins</td>\n      <td>Passive</td>\n      <td>↑ in Gun Damage to enemy on succumbing damage</td>\n    </tr>\n    <tr>\n      <th>13</th>\n      <td>Joseph</td>\n      <td>On Top Up</td>\n      <td>Passive</td>\n      <td>↑ in speed on succumbing damage</td>\n    </tr>\n    <tr>\n      <th>14</th>\n      <td>Wukong</td>\n      <td>600</td>\n      <td>Active</td>\n      <td>Camouflage for 20 secs</td>\n    </tr>\n  </tbody>\n</table>\n</div>"
     },
     "metadata": {},
     "execution_count": 45
    }
   ],
   "source": [
    "df"
   ]
  },
  {
   "cell_type": "code",
   "execution_count": 46,
   "metadata": {},
   "outputs": [],
   "source": [
    "df.iloc[9, 3] = \"Speed ↑\"\n",
    "df.iloc[10, 3] = \"↓ in Medikit consumption time\"\n",
    "df.iloc[11, 3] = \"↑ in Gun Damage to enemy on succumbing damage\"\n",
    "df.iloc[12, 3] = \"↑ in speed on succumbing damage\"\n",
    "df.iloc[13, 3] = \"Camouflage for 20 secs\""
   ]
  },
  {
   "cell_type": "code",
   "execution_count": 47,
   "metadata": {},
   "outputs": [
    {
     "output_type": "execute_result",
     "data": {
      "text/plain": [
       "   Char_Name                PID     Type  \\\n",
       "SI                                         \n",
       "1     Chrono                600   Active   \n",
       "2          K                600   Active   \n",
       "3      Dasha                500  Passive   \n",
       "4       Jota                500  Passive   \n",
       "5    Kapella                500  Passive   \n",
       "6     Steffi                600   Active   \n",
       "7     Alvaro                500  Passive   \n",
       "8     Primis               Free  Passive   \n",
       "9      Nulla               Free  Passive   \n",
       "10     Kelly  500/8000 FF Coins  Passive   \n",
       "11     Maxim  500/8000 FF Coins  Passive   \n",
       "12    Hayato  500/8000 FF Coins  Passive   \n",
       "13    Joseph          On Top Up  Passive   \n",
       "14    Wukong                600   Active   \n",
       "\n",
       "                                                Skill  \n",
       "SI                                                     \n",
       "1                                     Shield, Speed ↑  \n",
       "2                   EP ↑, EP received converted to HP  \n",
       "3   Jump Recovery Time ↓, Gun Recoil ↓, Fall Damage ↓  \n",
       "4                                40HP ↑/Kill (SMG/SG)  \n",
       "5                           ➕ HP on Consuming Medikit  \n",
       "6                   Reduce all Kinds of Damage by 30％  \n",
       "7   ↑ Damage(Grenade), ↑ Gun Range, ↑ lasting time...  \n",
       "8                                         -----------  \n",
       "9                                         -----------  \n",
       "10                                            Speed ↑  \n",
       "11                      ↓ in Medikit consumption time  \n",
       "12      ↑ in Gun Damage to enemy on succumbing damage  \n",
       "13                    ↑ in speed on succumbing damage  \n",
       "14                             Camouflage for 20 secs  "
      ],
      "text/html": "<div>\n<style scoped>\n    .dataframe tbody tr th:only-of-type {\n        vertical-align: middle;\n    }\n\n    .dataframe tbody tr th {\n        vertical-align: top;\n    }\n\n    .dataframe thead th {\n        text-align: right;\n    }\n</style>\n<table border=\"1\" class=\"dataframe\">\n  <thead>\n    <tr style=\"text-align: right;\">\n      <th></th>\n      <th>Char_Name</th>\n      <th>PID</th>\n      <th>Type</th>\n      <th>Skill</th>\n    </tr>\n    <tr>\n      <th>SI</th>\n      <th></th>\n      <th></th>\n      <th></th>\n      <th></th>\n    </tr>\n  </thead>\n  <tbody>\n    <tr>\n      <th>1</th>\n      <td>Chrono</td>\n      <td>600</td>\n      <td>Active</td>\n      <td>Shield, Speed ↑</td>\n    </tr>\n    <tr>\n      <th>2</th>\n      <td>K</td>\n      <td>600</td>\n      <td>Active</td>\n      <td>EP ↑, EP received converted to HP</td>\n    </tr>\n    <tr>\n      <th>3</th>\n      <td>Dasha</td>\n      <td>500</td>\n      <td>Passive</td>\n      <td>Jump Recovery Time ↓, Gun Recoil ↓, Fall Damage ↓</td>\n    </tr>\n    <tr>\n      <th>4</th>\n      <td>Jota</td>\n      <td>500</td>\n      <td>Passive</td>\n      <td>40HP ↑/Kill (SMG/SG)</td>\n    </tr>\n    <tr>\n      <th>5</th>\n      <td>Kapella</td>\n      <td>500</td>\n      <td>Passive</td>\n      <td>➕ HP on Consuming Medikit</td>\n    </tr>\n    <tr>\n      <th>6</th>\n      <td>Steffi</td>\n      <td>600</td>\n      <td>Active</td>\n      <td>Reduce all Kinds of Damage by 30％</td>\n    </tr>\n    <tr>\n      <th>7</th>\n      <td>Alvaro</td>\n      <td>500</td>\n      <td>Passive</td>\n      <td>↑ Damage(Grenade), ↑ Gun Range, ↑ lasting time...</td>\n    </tr>\n    <tr>\n      <th>8</th>\n      <td>Primis</td>\n      <td>Free</td>\n      <td>Passive</td>\n      <td>-----------</td>\n    </tr>\n    <tr>\n      <th>9</th>\n      <td>Nulla</td>\n      <td>Free</td>\n      <td>Passive</td>\n      <td>-----------</td>\n    </tr>\n    <tr>\n      <th>10</th>\n      <td>Kelly</td>\n      <td>500/8000 FF Coins</td>\n      <td>Passive</td>\n      <td>Speed ↑</td>\n    </tr>\n    <tr>\n      <th>11</th>\n      <td>Maxim</td>\n      <td>500/8000 FF Coins</td>\n      <td>Passive</td>\n      <td>↓ in Medikit consumption time</td>\n    </tr>\n    <tr>\n      <th>12</th>\n      <td>Hayato</td>\n      <td>500/8000 FF Coins</td>\n      <td>Passive</td>\n      <td>↑ in Gun Damage to enemy on succumbing damage</td>\n    </tr>\n    <tr>\n      <th>13</th>\n      <td>Joseph</td>\n      <td>On Top Up</td>\n      <td>Passive</td>\n      <td>↑ in speed on succumbing damage</td>\n    </tr>\n    <tr>\n      <th>14</th>\n      <td>Wukong</td>\n      <td>600</td>\n      <td>Active</td>\n      <td>Camouflage for 20 secs</td>\n    </tr>\n  </tbody>\n</table>\n</div>"
     },
     "metadata": {},
     "execution_count": 47
    }
   ],
   "source": [
    "df"
   ]
  }
 ]
}